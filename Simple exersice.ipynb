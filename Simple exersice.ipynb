{
 "cells": [
  {
   "cell_type": "markdown",
   "id": "59150f43-374a-470d-8934-d8aee08c8425",
   "metadata": {},
   "source": [
    "## E3L1 Simple Exercise\n",
    "___________________________"
   ]
  },
  {
   "cell_type": "markdown",
   "id": "d2d57460-e33b-440f-9ea4-02a5c05b20dc",
   "metadata": {},
   "source": [
    "### Q1) Create an **unordered** list of **5 fruits**\n",
    "\n",
    "- Apple\n",
    "- Berry\n",
    "- Mango\n",
    "- Orange\n",
    "- Watermelon"
   ]
  },
  {
   "cell_type": "markdown",
   "id": "31a9bb3b-a8a3-4bcb-8572-4070813f2e02",
   "metadata": {},
   "source": [
    "### Q2) Using the previous list, choose **1 fruit** to **bold**\n",
    "\n",
    "- Apple\n",
    "- Berry\n",
    "- **Mango**\n",
    "- Orange\n",
    "- Watermelon"
   ]
  },
  {
   "cell_type": "markdown",
   "id": "89cae8d2-752b-49ac-a5b2-aefed686f09e",
   "metadata": {},
   "source": [
    "### Q3) Using the previous list, create a title with **heading 4**\n",
    "\n",
    "#### Fruit list\n",
    "- Apple\n",
    "- Berry\n",
    "- **Mango**\n",
    "- Orange\n",
    "- Watermelon"
   ]
  },
  {
   "cell_type": "markdown",
   "id": "26895491-59ca-4c1e-be07-04b07c7d416a",
   "metadata": {},
   "source": [
    "### Q4) Using the previous list, add a short descrption of the list **below** the title using the **block quote**\n",
    "\n",
    "#### Fruit list\n",
    "> This is a list of my favourite fruits\n",
    "- Apple\n",
    "- Berry\n",
    "- **Mango**\n",
    "- Orange\n",
    "- Watermelon"
   ]
  },
  {
   "cell_type": "markdown",
   "id": "e95689be-d821-4d6e-8cfd-ca61b49d87a9",
   "metadata": {},
   "source": [
    "### Q5) Using the previous list, make the bolded fruit into a web link containing said *fruit's wiki page*\n",
    "\n",
    "#### Fruit list\n",
    "> This is a list of my favourite fruits\n",
    "- Apple\n",
    "- Berry\n",
    "- [**Mango**](https://en.wikipedia.org/wiki/Mango)\n",
    "- Orange\n",
    "- Watermelon"
   ]
  }
 ],
 "metadata": {
  "kernelspec": {
   "display_name": "Python 3",
   "language": "python",
   "name": "python3"
  },
  "language_info": {
   "codemirror_mode": {
    "name": "ipython",
    "version": 3
   },
   "file_extension": ".py",
   "mimetype": "text/x-python",
   "name": "python",
   "nbconvert_exporter": "python",
   "pygments_lexer": "ipython3",
   "version": "3.8.8"
  }
 },
 "nbformat": 4,
 "nbformat_minor": 5
}
