{
 "cells": [
  {
   "cell_type": "code",
   "execution_count": 1,
   "id": "9cbf94cd-b0a9-4629-a2dd-aa81ad43acc7",
   "metadata": {},
   "outputs": [],
   "source": [
    "import random"
   ]
  },
  {
   "cell_type": "code",
   "execution_count": 2,
   "id": "7acfd00b-4434-45e6-b68b-8a990522080a",
   "metadata": {},
   "outputs": [],
   "source": [
    "a = []"
   ]
  },
  {
   "cell_type": "code",
   "execution_count": 3,
   "id": "4b1ab2d1-0eb4-4249-bd2e-06d34682ccb2",
   "metadata": {},
   "outputs": [],
   "source": [
    "for i in range(5):\n",
    "    a.append(random.randint(1, 100))"
   ]
  },
  {
   "cell_type": "code",
   "execution_count": 4,
   "id": "56693bb3-2f00-4ac8-a64a-4c073e60173e",
   "metadata": {},
   "outputs": [
    {
     "data": {
      "text/plain": [
       "[40, 53, 53, 84, 13]"
      ]
     },
     "execution_count": 4,
     "metadata": {},
     "output_type": "execute_result"
    }
   ],
   "source": [
    "a"
   ]
  }
 ],
 "metadata": {
  "kernelspec": {
   "display_name": "Python 3",
   "language": "python",
   "name": "python3"
  },
  "language_info": {
   "codemirror_mode": {
    "name": "ipython",
    "version": 3
   },
   "file_extension": ".py",
   "mimetype": "text/x-python",
   "name": "python",
   "nbconvert_exporter": "python",
   "pygments_lexer": "ipython3",
   "version": "3.8.8"
  }
 },
 "nbformat": 4,
 "nbformat_minor": 5
}
