{
 "cells": [
  {
   "cell_type": "code",
   "execution_count": 1,
   "id": "2e66a6b5-eed9-4075-93cf-58405c5515c7",
   "metadata": {},
   "outputs": [
    {
     "name": "stdout",
     "output_type": "stream",
     "text": [
      "10\n"
     ]
    }
   ],
   "source": [
    "a = 10\n",
    "print(a)"
   ]
  },
  {
   "cell_type": "code",
   "execution_count": 2,
   "id": "3445fe33-438b-4738-bb37-165f23122bb5",
   "metadata": {},
   "outputs": [
    {
     "name": "stdout",
     "output_type": "stream",
     "text": [
      "3523\n"
     ]
    }
   ],
   "source": [
    "a = 3523\n",
    "print(a)"
   ]
  },
  {
   "cell_type": "code",
   "execution_count": 3,
   "id": "262eecf5-0fd6-44c1-bac3-0982a905bcf9",
   "metadata": {},
   "outputs": [
    {
     "name": "stdout",
     "output_type": "stream",
     "text": [
      "1\n"
     ]
    }
   ],
   "source": [
    "print(1)"
   ]
  },
  {
   "cell_type": "code",
   "execution_count": 4,
   "id": "18763b7f-7669-4331-8ed0-d5dc62ab1030",
   "metadata": {},
   "outputs": [
    {
     "ename": "SyntaxError",
     "evalue": "invalid syntax (<ipython-input-4-e83d2e9c396c>, line 7)",
     "output_type": "error",
     "traceback": [
      "\u001b[1;36m  File \u001b[1;32m\"<ipython-input-4-e83d2e9c396c>\"\u001b[1;36m, line \u001b[1;32m7\u001b[0m\n\u001b[1;33m    count += 1\u001b[0m\n\u001b[1;37m    ^\u001b[0m\n\u001b[1;31mSyntaxError\u001b[0m\u001b[1;31m:\u001b[0m invalid syntax\n"
     ]
    }
   ],
   "source": [
    "name = input(\"Enter name: \")\n",
    "\n",
    "count = 0\n",
    "\n",
    "while count < len(name):\n",
    "    print(f\"{count+1})\",name[count].upper()\n",
    "    count += 1\n",
    "          \n",
    "print(name)"
   ]
  },
  {
   "cell_type": "code",
   "execution_count": 5,
   "id": "d622020a-9af0-4e09-a9f1-d916cb6a3afd",
   "metadata": {},
   "outputs": [
    {
     "ename": "SyntaxError",
     "evalue": "invalid syntax (<ipython-input-5-101c9b87595d>, line 7)",
     "output_type": "error",
     "traceback": [
      "\u001b[1;36m  File \u001b[1;32m\"<ipython-input-5-101c9b87595d>\"\u001b[1;36m, line \u001b[1;32m7\u001b[0m\n\u001b[1;33m    count = count + 1\u001b[0m\n\u001b[1;37m    ^\u001b[0m\n\u001b[1;31mSyntaxError\u001b[0m\u001b[1;31m:\u001b[0m invalid syntax\n"
     ]
    }
   ],
   "source": [
    "name = input(\"Enter name: \")\n",
    "\n",
    "count = 0\n",
    "\n",
    "while count < len(name):\n",
    "    print(f\"{count+1})\",name[count].upper()\n",
    "    count = count + 1\n",
    "          \n",
    "print(name)"
   ]
  },
  {
   "cell_type": "code",
   "execution_count": 8,
   "id": "c29be6a9-fd06-4948-af86-e82abf38cc55",
   "metadata": {},
   "outputs": [
    {
     "name": "stdin",
     "output_type": "stream",
     "text": [
      "Enter name:  hi, my name is joel\n"
     ]
    },
    {
     "name": "stdout",
     "output_type": "stream",
     "text": [
      "1) H\n",
      "2) I\n",
      "3) ,\n",
      "4)  \n",
      "5) M\n",
      "6) Y\n",
      "7)  \n",
      "8) N\n",
      "9) A\n",
      "10) M\n",
      "11) E\n",
      "12)  \n",
      "13) I\n",
      "14) S\n",
      "15)  \n",
      "16) J\n",
      "17) O\n",
      "18) E\n",
      "19) L\n",
      "hi, my name is joel\n"
     ]
    }
   ],
   "source": [
    "name = input(\"Enter name: \")\n",
    "\n",
    "count = 0\n",
    "\n",
    "while count < len(name):\n",
    "    print(f\"{count+1})\",name[count].upper())\n",
    "    count += 1\n",
    "          \n",
    "print(name)"
   ]
  },
  {
   "cell_type": "code",
   "execution_count": 9,
   "id": "34092173-4de4-4477-acf5-10966f990bd0",
   "metadata": {},
   "outputs": [
    {
     "ename": "NameError",
     "evalue": "name 'x' is not defined",
     "output_type": "error",
     "traceback": [
      "\u001b[1;31m---------------------------------------------------------------------------\u001b[0m",
      "\u001b[1;31mNameError\u001b[0m                                 Traceback (most recent call last)",
      "\u001b[1;32m<ipython-input-9-16160cc886b9>\u001b[0m in \u001b[0;36m<module>\u001b[1;34m\u001b[0m\n\u001b[1;32m----> 1\u001b[1;33m \u001b[0mprint\u001b[0m\u001b[1;33m(\u001b[0m\u001b[0mx\u001b[0m\u001b[1;33m*\u001b[0m\u001b[0mx\u001b[0m\u001b[1;33m)\u001b[0m\u001b[1;33m\u001b[0m\u001b[1;33m\u001b[0m\u001b[0m\n\u001b[0m",
      "\u001b[1;31mNameError\u001b[0m: name 'x' is not defined"
     ]
    }
   ],
   "source": [
    "print(x*x)"
   ]
  },
  {
   "cell_type": "code",
   "execution_count": 10,
   "id": "e16e9cfe-033d-4574-b0ec-05b03e23bb13",
   "metadata": {},
   "outputs": [
    {
     "name": "stdout",
     "output_type": "stream",
     "text": [
      "100\n"
     ]
    }
   ],
   "source": [
    "x=10\n",
    "print(x*x)"
   ]
  },
  {
   "cell_type": "markdown",
   "id": "939acfb5-29ea-4a08-b9d3-01cfa285b63f",
   "metadata": {},
   "source": [
    "# Lesson 2 Exercise\n",
    "Create a program that will do the following:\n",
    "1. Ask user to key in a name\n",
    "2. Add name into a list\n",
    "3. Repeat  step 1 & 2 until user keys \"done\"\n",
    "4. Once done, use for loop to print out each name\n",
    "With  a number infront.\n",
    "Eg: a) Joel\n",
    "    b) Daniel\n",
    "    c) Mac"
   ]
  },
  {
   "cell_type": "code",
   "execution_count": null,
   "id": "e2ee9f2b-a7a6-4d26-a952-7cca186d9dc2",
   "metadata": {},
   "outputs": [],
   "source": [
    "box = []\n",
    "\n",
    "while True:\n",
    "    ask=input(\"what is your name?: \")\n",
    "    if ask == 'done':\n",
    "        break\n",
    "    else:\n",
    "        box.?????(ask)\n",
    "        "
   ]
  }
 ],
 "metadata": {
  "kernelspec": {
   "display_name": "Python 3",
   "language": "python",
   "name": "python3"
  },
  "language_info": {
   "codemirror_mode": {
    "name": "ipython",
    "version": 3
   },
   "file_extension": ".py",
   "mimetype": "text/x-python",
   "name": "python",
   "nbconvert_exporter": "python",
   "pygments_lexer": "ipython3",
   "version": "3.8.8"
  }
 },
 "nbformat": 4,
 "nbformat_minor": 5
}
