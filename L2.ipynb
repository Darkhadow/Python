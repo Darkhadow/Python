{
 "cells": [
  {
   "cell_type": "code",
   "execution_count": 1,
   "id": "2e66a6b5-eed9-4075-93cf-58405c5515c7",
   "metadata": {},
   "outputs": [
    {
     "name": "stdout",
     "output_type": "stream",
     "text": [
      "10\n"
     ]
    }
   ],
   "source": [
    "a = 10\n",
    "print(a)"
   ]
  },
  {
   "cell_type": "code",
   "execution_count": 2,
   "id": "3445fe33-438b-4738-bb37-165f23122bb5",
   "metadata": {},
   "outputs": [
    {
     "name": "stdout",
     "output_type": "stream",
     "text": [
      "3523\n"
     ]
    }
   ],
   "source": [
    "a = 3523\n",
    "print(a)"
   ]
  },
  {
   "cell_type": "code",
   "execution_count": 3,
   "id": "262eecf5-0fd6-44c1-bac3-0982a905bcf9",
   "metadata": {},
   "outputs": [
    {
     "name": "stdout",
     "output_type": "stream",
     "text": [
      "1\n"
     ]
    }
   ],
   "source": [
    "print(1)"
   ]
  },
  {
   "cell_type": "code",
   "execution_count": 19,
   "id": "c29be6a9-fd06-4948-af86-e82abf38cc55",
   "metadata": {},
   "outputs": [
    {
     "name": "stdin",
     "output_type": "stream",
     "text": [
      "Enter name:  HI, MY NAME IS DR.JOEL.\n"
     ]
    },
    {
     "name": "stdout",
     "output_type": "stream",
     "text": [
      "1) H\n",
      "2) I\n",
      "3) ,\n",
      "4)  \n",
      "5) M\n",
      "6) Y\n",
      "7)  \n",
      "8) N\n",
      "9) A\n",
      "10) M\n",
      "11) E\n",
      "12)  \n",
      "13) I\n",
      "14) S\n",
      "15)  \n",
      "16) D\n",
      "17) R\n",
      "18) .\n",
      "19) J\n",
      "20) O\n",
      "21) E\n",
      "22) L\n",
      "23) .\n",
      "HI, MY NAME IS DR.JOEL.\n"
     ]
    }
   ],
   "source": [
    "name = input(\"Enter name: \")\n",
    "\n",
    "count = 0\n",
    "\n",
    "while count < len(name):\n",
    "    print(f\"{count+1})\",name[count].upper())\n",
    "    count += 1\n",
    "          \n",
    "print(name)"
   ]
  },
  {
   "cell_type": "code",
   "execution_count": 10,
   "id": "e16e9cfe-033d-4574-b0ec-05b03e23bb13",
   "metadata": {},
   "outputs": [
    {
     "name": "stdout",
     "output_type": "stream",
     "text": [
      "100\n"
     ]
    }
   ],
   "source": [
    "x=10\n",
    "print(x*x)"
   ]
  },
  {
   "cell_type": "markdown",
   "id": "939acfb5-29ea-4a08-b9d3-01cfa285b63f",
   "metadata": {},
   "source": [
    "# Lesson 2 Exercise\n",
    "## Create a program that will do the following:\n",
    "1. Ask user to key in a name\n",
    "2. Add name into a list\n",
    "3. Repeat  step 1 & 2 until user keys \"done\"\n",
    "4. Once done, use for loop to print out each name\n",
    "With  a number infront.\n",
    "Eg: a) Joel\n",
    "    b) Daniel\n",
    "    c) Mac"
   ]
  },
  {
   "cell_type": "code",
   "execution_count": null,
   "id": "e2ee9f2b-a7a6-4d26-a952-7cca186d9dc2",
   "metadata": {},
   "outputs": [],
   "source": [
    "box = []\n",
    "\n",
    "while True:\n",
    "    ask=input(\"what is your name?: \")\n",
    "    if ask == 'done':\n",
    "        break\n",
    "    else:\n",
    "        box.?????(ask)\n",
    "        "
   ]
  },
  {
   "cell_type": "code",
   "execution_count": 11,
   "id": "6d7533af-c455-46b4-aa9e-9826a5062d83",
   "metadata": {},
   "outputs": [],
   "source": [
    "import pandas as pd"
   ]
  },
  {
   "cell_type": "code",
   "execution_count": 12,
   "id": "3a286489-1c8f-47aa-a44f-dbe89efb4587",
   "metadata": {},
   "outputs": [
    {
     "name": "stdout",
     "output_type": "stream",
     "text": [
      "        Brand  Model  Price  Year\n",
      "Car 1   Honda  Civic  22000  2010\n",
      "Car 2  Toyota  Prius  25000  2011\n",
      "Car 3    Ford  Focus  27000  2008\n"
     ]
    }
   ],
   "source": [
    "cars = {'Brand':['Honda','Toyota','Ford'],\n",
    "        'Price':[22000,25000,27000]}\n",
    "\n",
    "cars_df = pd.DataFrame(cars, columns = ['Brand','Price'])\n",
    "\n",
    "cars_df = pd.DataFrame(cars, columns = ['Brand','Price'], \n",
    "                       index = ['Car 1','Car 2','Car 3'])\n",
    "\n",
    "cars = {'Brand':['Honda','Toyota','Ford'],\n",
    "        'Price':[22000,25000,27000],\n",
    "       'Year':[2010,2011,2008]}\n",
    "\n",
    "cars_df = pd.DataFrame(cars, columns = ['Brand','Price','Year'], \n",
    "                       index = ['Car 1','Car 2','Car 3'])\n",
    "\n",
    "car_type = ['Sedan','Sedan','Sedan']\n",
    "cars_df['Type'] = car_type\n",
    "\n",
    "cars_df.insert(1,'Model',['Civic','Prius','Focus'],True)\n",
    "\n",
    "cars_df['Double'] = cars_df['Price'] * 2\n",
    "\n",
    "cars_df.drop('Type',axis='columns',inplace=True)\n",
    "\n",
    "\n",
    "cars_df.drop('Double',axis='columns',inplace=True)\n",
    "\n",
    "print(cars_df)"
   ]
  },
  {
   "cell_type": "code",
   "execution_count": 16,
   "id": "b54dfd1a-56d6-4db5-ac7d-856345b913ec",
   "metadata": {},
   "outputs": [],
   "source": [
    "new_car_1 = {'Brand':'Hyundai','Model':'Avante','Price':20000000000000000000000000000000000000000000000000000000000000000000000000000000000000000000000000000000000000000000000000000000000000000000000000000000000000000000000000000000000000000000000000000000000000000000000000000000000000,'Year':2021}\n",
    "#cars_df = cars_df.append(new_car_1,ignore_index=True)\n",
    "cars_df.loc['Car 4'] = new_car_1\n",
    "\n",
    "discount = cars_df['Price']*0.1\n",
    "cars_df.insert(4,'Discount',discount,True)"
   ]
  },
  {
   "cell_type": "code",
   "execution_count": 17,
   "id": "22b21fc3-27a9-42c6-a4db-d7dbbf58f655",
   "metadata": {},
   "outputs": [
    {
     "data": {
      "text/html": [
       "<div>\n",
       "<style scoped>\n",
       "    .dataframe tbody tr th:only-of-type {\n",
       "        vertical-align: middle;\n",
       "    }\n",
       "\n",
       "    .dataframe tbody tr th {\n",
       "        vertical-align: top;\n",
       "    }\n",
       "\n",
       "    .dataframe thead th {\n",
       "        text-align: right;\n",
       "    }\n",
       "</style>\n",
       "<table border=\"1\" class=\"dataframe\">\n",
       "  <thead>\n",
       "    <tr style=\"text-align: right;\">\n",
       "      <th></th>\n",
       "      <th>Brand</th>\n",
       "      <th>Model</th>\n",
       "      <th>Price</th>\n",
       "      <th>Year</th>\n",
       "      <th>Discount</th>\n",
       "    </tr>\n",
       "  </thead>\n",
       "  <tbody>\n",
       "    <tr>\n",
       "      <th>Car 1</th>\n",
       "      <td>Honda</td>\n",
       "      <td>Civic</td>\n",
       "      <td>22000</td>\n",
       "      <td>2010</td>\n",
       "      <td>2200.0</td>\n",
       "    </tr>\n",
       "    <tr>\n",
       "      <th>Car 2</th>\n",
       "      <td>Toyota</td>\n",
       "      <td>Prius</td>\n",
       "      <td>25000</td>\n",
       "      <td>2011</td>\n",
       "      <td>2500.0</td>\n",
       "    </tr>\n",
       "    <tr>\n",
       "      <th>Car 3</th>\n",
       "      <td>Ford</td>\n",
       "      <td>Focus</td>\n",
       "      <td>27000</td>\n",
       "      <td>2008</td>\n",
       "      <td>2700.0</td>\n",
       "    </tr>\n",
       "    <tr>\n",
       "      <th>Car 4</th>\n",
       "      <td>Hyundai</td>\n",
       "      <td>Avante</td>\n",
       "      <td>2000000000000000000000000000000000000000000000...</td>\n",
       "      <td>2021</td>\n",
       "      <td>2000000000000000185666940744046398193780696904...</td>\n",
       "    </tr>\n",
       "  </tbody>\n",
       "</table>\n",
       "</div>"
      ],
      "text/plain": [
       "         Brand   Model                                              Price  \\\n",
       "Car 1    Honda   Civic                                              22000   \n",
       "Car 2   Toyota   Prius                                              25000   \n",
       "Car 3     Ford   Focus                                              27000   \n",
       "Car 4  Hyundai  Avante  2000000000000000000000000000000000000000000000...   \n",
       "\n",
       "       Year                                           Discount  \n",
       "Car 1  2010                                             2200.0  \n",
       "Car 2  2011                                             2500.0  \n",
       "Car 3  2008                                             2700.0  \n",
       "Car 4  2021  2000000000000000185666940744046398193780696904...  "
      ]
     },
     "execution_count": 17,
     "metadata": {},
     "output_type": "execute_result"
    }
   ],
   "source": [
    "cars_df"
   ]
  },
  {
   "cell_type": "code",
   "execution_count": 49,
   "id": "ac37fd00-879b-4b17-93b3-028cff9d0434",
   "metadata": {},
   "outputs": [],
   "source": [
    "import pandas as pd"
   ]
  },
  {
   "cell_type": "code",
   "execution_count": 50,
   "id": "c5c5d1f1-99cb-4c5a-b135-c49288b29215",
   "metadata": {},
   "outputs": [],
   "source": [
    "dataset = {'Name':[],'Age':[],'Money':[]}"
   ]
  },
  {
   "cell_type": "code",
   "execution_count": 51,
   "id": "c6acd74d-d918-46d1-b4ce-f67c751809ac",
   "metadata": {},
   "outputs": [
    {
     "name": "stdin",
     "output_type": "stream",
     "text": [
      "What is your name:  joel\n",
      "What is your age:  32\n",
      "How much money do you have:  12\n",
      "Do you want to contiune? [y/n] y\n",
      "What is your name:  john\n",
      "What is your age:  43\n",
      "How much money do you have:  23\n",
      "Do you want to contiune? [y/n] n\n"
     ]
    },
    {
     "name": "stdout",
     "output_type": "stream",
     "text": [
      "          Name                         Age  Money\n",
      "Student1  poop  10000000000000000000000000      1\n",
      "Student2  poop                134341431413      1\n"
     ]
    }
   ],
   "source": [
    "while True:\n",
    "    Name=input(\"What is your name: \")\n",
    "    Age=input(\"What is your age: \")\n",
    "    Money=input(\"How much money do you have: \")\n",
    "    choice=input(\"Do you want to contiune? [y/n]\")\n",
    "    if choice == 'y':\n",
    "        continue\n",
    "    elif choice == 'n':\n",
    "        dataset['Name'].append(Name)\n",
    "        dataset['Age'].append(int(Age))\n",
    "        dataset['Money'].append(int(Money))\n",
    "        dataset_df = pd.DataFrame(dataset, columns = ['Name','Age','Money'], \n",
    "                                 index = [f'Student{reg+1}' for reg in range(len(dataset['Name']))])\n",
    "        print(member_df)\n",
    "\n",
    "        break"
   ]
  },
  {
   "cell_type": "code",
   "execution_count": null,
   "id": "e47f2f8e-c561-4423-ba3d-e7d4624c8539",
   "metadata": {},
   "outputs": [],
   "source": []
  }
 ],
 "metadata": {
  "kernelspec": {
   "display_name": "Python 3",
   "language": "python",
   "name": "python3"
  },
  "language_info": {
   "codemirror_mode": {
    "name": "ipython",
    "version": 3
   },
   "file_extension": ".py",
   "mimetype": "text/x-python",
   "name": "python",
   "nbconvert_exporter": "python",
   "pygments_lexer": "ipython3",
   "version": "3.8.8"
  }
 },
 "nbformat": 4,
 "nbformat_minor": 5
}
